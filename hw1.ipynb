{
 "cells": [
  {
   "cell_type": "markdown",
   "id": "dbdba874",
   "metadata": {},
   "source": [
    "# Information Security\n",
    "\n",
    "## CMP-5006\n",
    "\n",
    "## Homework 1\n"
   ]
  },
  {
   "cell_type": "markdown",
   "id": "e14a292b",
   "metadata": {},
   "source": [
    "### Exercise 1\n",
    "\n",
    "Let $n$ be a positive integer. A Latin square of order $n$ is an $n \\times n$ array $L$ of the integers $1, ... , n$ such that every one of the $n$ integers occurs exactly once in each row and each column of $L$. An example of a Latin square of order 3 is as follows:\n",
    "\n",
    "||C1|C2|C3|\n",
    "|-|-|-|-|\n",
    "|R1|1|2|3|\n",
    "|R2|3|1|2|\n",
    "|R3|2|3|1|\n",
    "\n",
    "Given any Latin square $L$ of order $n$, we can define a related Latin Square Cryptosystem. Let the sets $P$ = $C$ = $K$ = ${1, . . . , n}$, be the sets representing the space for the plaintext, ciphertext and keys. For $1 ≤ i ≤ n$, the encryption rule $e_i$ is defined to be $e_i(j) = L(i,j).$ Here, $i$ would be the key, $j$ the plaintext, and  $e_i(j)$ the ciphertext. \n",
    "\n",
    "Give a complete proof that this Latin Square Cryptosystem achieves perfect\n",
    "secrecy provided that every key is used with equal probability.\n",
    "\n",
    "ANSWER: \n",
    "\n",
    "In the Latin Square Cryptosystem, a cryptosystem is considered to have perfect secrecy if the following conditions are met: \n",
    "\n",
    "For every plaintext p in the set P and every ciphertext c in the set C, the probability of p given c, PrP,C(p/c), equals the probability of p, PrP(p)\n",
    "\n",
    "p ∈ P, c ∈ C, PrP,C (p/c) = PrP (p)\n",
    "\n",
    "Also, for each p in P and c in C, PrP,C(p/c) equals the probability of p times the probability of c given p, divided by the probability of c\n",
    "\n",
    "p ∈ P, c ∈ C, PrP,C (p/c) = Pr(p).P(c/p) / Pr(c)\n",
    "\n",
    "Since each key is used with the same likelihood, knowing a particular j, there exists a unique key that encrypts j to L(i,j) out of n keys (as each number appears only once in a column). Regarding Pr(c), each L(i,j) occurs n times in the square among the n^2 possible instances\n",
    "\n",
    "Pr(p/c) = Pr(p). 1/n / (n/n^2) = P r(p)\n",
    "\n",
    "Thus, the Latin Square Cryptosystem guarantees perfect secrecy as long as each key is utilized with equal probability\n",
    "\n",
    "Regarding the probability of ciphertexts:\n",
    "\n",
    "If the cryptosystem ensures perfect secrecy, then:\n",
    "\n",
    "p ∈ P, c ∈ C, PrP,C (p/c) = PrP(p)\n",
    "\n",
    "Applying Bayes Theorem, we can deduce that: \n",
    "\n",
    "c ∈ C, P r(c) = P r(p).P r(c/p) /(Pr(p/c)) = Pr(p).P r(c/p)/ (Pr(p)) = Pr(c/p)\n",
    "\n",
    "Given that the size of P, C, and K are the same, there is only one key among n that encrypts p to c\n",
    "\n",
    "Therefore: c ∈ C, Pr(c/p) = 1/ n\n",
    "\n",
    "This leads to the conclusion that each ciphertext is equally likely to occur\n",
    "\n"
   ]
  },


  {
   "cell_type": "markdown",
   "id": "0c6487a7",
   "metadata": {},
   "source": [
    "### Exercise 2\n",
    "\n",
    "Consider a cryptosystem in which the sets representing the plaintext, ciphertext and keys are: $P = { a, b, c}$, $K = {K1 , K2 , K3 }$ and $C ={1, 2, 3, 4}$. Suppose the encryption matrix is as follows:\n",
    "\n",
    "||a| b| c|\n",
    "|-|-|-|-|\n",
    "|K1| 1| 2| 3|\n",
    "|K2| 2| 3| 4|\n",
    "|K3| 3| 4| 1|\n",
    "\n",
    "Given that keys are chosen equiprobably, and the plaintext probability distribution is $Pr[ a] = 1/2$, $Pr[b] = 1/3$, $Pr[c] = 1/6$, compute $H(P)$, $H(C)$, $H(K)$, $H(K|C)$, and $H(P|C)$.\n",
    "\n",
    "To know if a cryptosystem have perfect secrecy: \n",
    "\n",
    "First, we have the assumptions: \n",
    "\n",
    "1. Pr[y = i] where , i = 1,2,3,4 \n",
    "\n",
    "2. Pr[x=j, y=i] where j = a,b,c and i = 1,2,3,4...\n",
    "\n",
    "For 1. we calculate the following: \n",
    "\n",
    "Pr[y=i] = sum(Pr(k)* Pr(y))\n",
    "\n",
    "The initial values are: Pr[x=a] = 1/2 , Pr[x=b] = 1/3, Pr[x=c] = 1/6, Therefore: Pr[K = Ki ] = 1/3, where i = 1,2,3\n",
    "\n",
    "\n",
    "For: Pr[y=1]\n",
    "\n",
    "We have: Pr[y=1] = Pr[K = K1] * Pr[x=a] + Pr[K=K2] * 0 + Pr[K = K3] * Pr[x=c] = [1/3] * [1/2] + [1/3] * [1/6] = 2/9\n\n",
    "\n",
    "\n",
    "For: Pr[y=2]\n",
    "\n",
    "We have: Pr[y=2] = Pr[K = K1] * 0 + Pr[K=K2] * Pr[x=b]+ Pr[K = K3] * Pr[x=c] = [1/3] * [1/3] + [1/3] * [1/6] = 5/18\n",
    "\n",
    "\n",
    "For: Pr[y=3]\n",
    "\n",
    "We have: Pr[y=3] = Pr[K = K1] * Pr[x=a] + Pr[K=K2] * Pr[x=b]+ Pr[K = K3] * Pr[x=c] = [1/3] * [1/3]+[1/2] * [1/3] + [1/3] * [1/6] = 1/3\n",
    "\n",
    "\n",
    "\n",
    "For 2. we calculate the following:\n",
    "\n",
    "Pr[x=a, y=1]= Pr[x=a] * Pr[y=a | x=a] = 1/2 * 1/3 = 1/6\n",
    "\n",
    "For other i combinations are: \n"
    "\n",
    "Pr[x=a, y=i] = 1/6 , for all i = 2,3\n",
    "\n",
    "Pr[x=b, y=i] = 1/9 , for all i = 2,3,4\n",
    "\n",
    "Pr[x=c, y=i] = 1/18 , for all i = 1,3,4\n",
    "\n",
    "\n"



    

   

    ]
  },
  {
   "cell_type": "markdown",
   "id": "ef1d69c1",
   "metadata": {},
   "source": [
    "### Exercise 3\n",
    "\n",
    "Compute $H(K|C)$ and $H(K|P, C)$ for the Affine Cipher, assuming that keys are used equiprobably and the plaintexts are equiprobable."
   ]
  },
  {
   "cell_type": "markdown",
   "id": "3073ccdb",
   "metadata": {},
   "source": [
    "### Exercise 4\n",
    "\n",
    "Show that the unicity distance of the Hill Cipher (with an $m \\times m$ encryption matrix) is less than $\\frac{m}{R_L}$ . (Note that the number of alphabetic characters ina plaintext of this length is $\\frac{m^2}{R_L}$.)"
   ]
  }
 ],
 "metadata": {
  "kernelspec": {
   "display_name": "Python 3",
   "language": "python",
   "name": "python3"
  },
  "language_info": {
   "codemirror_mode": {
    "name": "ipython",
    "version": 3
   },
   "file_extension": ".py",
   "mimetype": "text/x-python",
   "name": "python",
   "nbconvert_exporter": "python",
   "pygments_lexer": "ipython3",
   "version": "3.8.8"
  }
 },
 "nbformat": 4,
 "nbformat_minor": 5
}
